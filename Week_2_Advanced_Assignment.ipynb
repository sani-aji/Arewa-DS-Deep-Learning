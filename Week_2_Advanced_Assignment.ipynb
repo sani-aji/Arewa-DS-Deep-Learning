{
  "nbformat": 4,
  "nbformat_minor": 0,
  "metadata": {
    "colab": {
      "provenance": [],
      "gpuType": "T4"
    },
    "kernelspec": {
      "name": "python3",
      "display_name": "Python 3"
    },
    "language_info": {
      "name": "python"
    },
    "accelerator": "GPU"
  },
  "cells": [
    {
      "cell_type": "markdown",
      "source": [
        "## Week Two Advanced Assignment\n",
        "### Part One\n",
        "#### Pytorch Fundamentals"
      ],
      "metadata": {
        "id": "InJXz76yMive"
      }
    },
    {
      "cell_type": "markdown",
      "source": [
        "#### 1. Dataset loading"
      ],
      "metadata": {
        "id": "Bt8jhi_FNL_X"
      }
    },
    {
      "cell_type": "code",
      "source": [
        "#a: Load the Synchronous ML Dataset as numpy array\n",
        "\n",
        "#Let's start by importing the required libraries\n",
        "import zipfile\n",
        "import pandas as pd\n",
        "\n",
        "#Let's download the dataset from the site to colab environment using wget. Alternatively we can use curl\n",
        "!wget https://archive.ics.uci.edu/static/public/607/synchronous+machine+data+set.zip -O data.zip\n"
      ],
      "metadata": {
        "colab": {
          "base_uri": "https://localhost:8080/"
        },
        "id": "5PpeBGToNJEZ",
        "outputId": "919ad3fd-aca9-4e4c-e6ea-1a104b1ea7d9"
      },
      "execution_count": 2,
      "outputs": [
        {
          "output_type": "stream",
          "name": "stdout",
          "text": [
            "--2023-12-28 16:24:00--  https://archive.ics.uci.edu/static/public/607/synchronous+machine+data+set.zip\n",
            "Resolving archive.ics.uci.edu (archive.ics.uci.edu)... 128.195.10.252\n",
            "Connecting to archive.ics.uci.edu (archive.ics.uci.edu)|128.195.10.252|:443... connected.\n",
            "HTTP request sent, awaiting response... 200 OK\n",
            "Length: unspecified\n",
            "Saving to: ‘data.zip’\n",
            "\n",
            "data.zip                [ <=>                ]  14.37K  --.-KB/s    in 0.02s   \n",
            "\n",
            "2023-12-28 16:24:01 (579 KB/s) - ‘data.zip’ saved [14713]\n",
            "\n"
          ]
        }
      ]
    },
    {
      "cell_type": "code",
      "source": [
        "#it is a zip file, let's unzip\n",
        "# unzip data\n",
        "with zipfile.ZipFile(\"data.zip\", 'r') as my_zip:\n",
        "  my_zip.extractall()"
      ],
      "metadata": {
        "id": "p6bxDD_rPWI3"
      },
      "execution_count": 4,
      "outputs": []
    },
    {
      "cell_type": "code",
      "source": [
        "# reading the csv file (i.e the unzipped data) and parse to pandas\n",
        "dataset_name = \"synchronous machine.csv\"\n",
        "data = pd.read_csv(dataset_name, delimiter=\";\", thousands=',')\n",
        "# get numpy data.\n",
        "numpy_data = data.values #This means that we have assigned the data values to a numpy array\n",
        "print(numpy_data)\n",
        "print(type (numpy_data))  #just checking the type to see clearly that the data is now loaded as numpy array"
      ],
      "metadata": {
        "colab": {
          "base_uri": "https://localhost:8080/"
        },
        "id": "DWAAg-J6R0Gr",
        "outputId": "a574741f-b38a-4a95-8cff-b82fa65de7bf"
      },
      "execution_count": 10,
      "outputs": [
        {
          "output_type": "stream",
          "name": "stdout",
          "text": [
            "[[   3   66   34  383 1563]\n",
            " [   3   68   32  372 1552]\n",
            " [   3    7    3   36  154]\n",
            " ...\n",
            " [   6   95    5   16  134]\n",
            " [   6   97    3   16  134]\n",
            " [   6   99    1   16  134]]\n",
            "<class 'numpy.ndarray'>\n"
          ]
        }
      ]
    },
    {
      "cell_type": "code",
      "source": [
        "#b: Convert the Numpy array to PyTorch tensor\n",
        "import torch\n",
        "original_data_tensor = torch.tensor(numpy_data)\n",
        "\n",
        "# Print the resulting PyTorch tensor\n",
        "print(original_data_tensor)\n",
        "print(type(original_data_tensor)) #Checking the type\n"
      ],
      "metadata": {
        "colab": {
          "base_uri": "https://localhost:8080/"
        },
        "id": "qcA4Nx0jR-7a",
        "outputId": "9261390d-f7e2-4365-d39a-330a27d2f3fa"
      },
      "execution_count": 12,
      "outputs": [
        {
          "output_type": "stream",
          "name": "stdout",
          "text": [
            "tensor([[   3,   66,   34,  383, 1563],\n",
            "        [   3,   68,   32,  372, 1552],\n",
            "        [   3,    7,    3,   36,  154],\n",
            "        ...,\n",
            "        [   6,   95,    5,   16,  134],\n",
            "        [   6,   97,    3,   16,  134],\n",
            "        [   6,   99,    1,   16,  134]])\n",
            "<class 'torch.Tensor'>\n"
          ]
        }
      ]
    },
    {
      "cell_type": "markdown",
      "source": [
        "#### 2. Art of ”Tensor Manipulation”"
      ],
      "metadata": {
        "id": "KbllYIGsUax2"
      }
    },
    {
      "cell_type": "code",
      "source": [
        "#(a) Print the size of the dataset\n",
        "print(original_data_tensor.size())\n",
        "\n",
        "\n"
      ],
      "metadata": {
        "colab": {
          "base_uri": "https://localhost:8080/"
        },
        "id": "ce9Qn7nKUKFc",
        "outputId": "b7734dee-9cc7-4a87-8ca1-8c082664673f"
      },
      "execution_count": 17,
      "outputs": [
        {
          "output_type": "stream",
          "name": "stdout",
          "text": [
            "torch.Size([557, 5])\n"
          ]
        }
      ]
    },
    {
      "cell_type": "code",
      "source": [
        "print(original_data_tensor.shape)\n",
        "\n",
        "#The data is a 2D tensor with 557 rows and 5 columns\n",
        "#In this case shape and size gives the same result because\n",
        "#size\" and \"shape\" are often used interchangeably for 2D tensors because the shape is fully described by the number of rows and columns."
      ],
      "metadata": {
        "colab": {
          "base_uri": "https://localhost:8080/"
        },
        "id": "ml5bZTsNUuos",
        "outputId": "e06d619a-a988-4f0a-b833-1babbc4a4fab"
      },
      "execution_count": 18,
      "outputs": [
        {
          "output_type": "stream",
          "name": "stdout",
          "text": [
            "torch.Size([557, 5])\n"
          ]
        }
      ]
    },
    {
      "cell_type": "markdown",
      "source": [
        "#### (b) Create a tensor, my pi tensor of same size as original data tensor containing values of 3.142 at every point and placed on your GPU device. Print the first 13 rows. Print tensor device location. Print tensor datatype.\n"
      ],
      "metadata": {
        "id": "DbDcLBT3XvuK"
      }
    },
    {
      "cell_type": "code",
      "source": [
        "#Creating a tensor of same size 557, 5\n",
        "\n",
        "# Specify the size of the tensor (shape)\n",
        "\n",
        "tensor_size = (557, 5)\n",
        "\n",
        "my_pi_tensor =  torch.full(tensor_size, fill_value=3.142) #created on cpu\n",
        "\n",
        "my_pi_tensor1 = my_pi_tensor.to('cuda') #moved to gpu\n",
        "\n",
        "# Display the created tensor\n",
        "print(my_pi_tensor.device)\n",
        "print(my_pi_tensor1.device)"
      ],
      "metadata": {
        "colab": {
          "base_uri": "https://localhost:8080/"
        },
        "id": "9t85bRsxXqP5",
        "outputId": "c8498312-4d65-4f04-e28a-bc1ce6393a72"
      },
      "execution_count": 22,
      "outputs": [
        {
          "output_type": "stream",
          "name": "stdout",
          "text": [
            "cpu\n",
            "cuda:0\n"
          ]
        }
      ]
    },
    {
      "cell_type": "code",
      "source": [
        "#first 13 rows\n",
        "print(my_pi_tensor1[:13, :])\n"
      ],
      "metadata": {
        "colab": {
          "base_uri": "https://localhost:8080/"
        },
        "id": "XXusyyuNZBsV",
        "outputId": "d07cc395-3c15-41c6-960f-a919d720aeb7"
      },
      "execution_count": 23,
      "outputs": [
        {
          "output_type": "stream",
          "name": "stdout",
          "text": [
            "tensor([[3.1420, 3.1420, 3.1420, 3.1420, 3.1420],\n",
            "        [3.1420, 3.1420, 3.1420, 3.1420, 3.1420],\n",
            "        [3.1420, 3.1420, 3.1420, 3.1420, 3.1420],\n",
            "        [3.1420, 3.1420, 3.1420, 3.1420, 3.1420],\n",
            "        [3.1420, 3.1420, 3.1420, 3.1420, 3.1420],\n",
            "        [3.1420, 3.1420, 3.1420, 3.1420, 3.1420],\n",
            "        [3.1420, 3.1420, 3.1420, 3.1420, 3.1420],\n",
            "        [3.1420, 3.1420, 3.1420, 3.1420, 3.1420],\n",
            "        [3.1420, 3.1420, 3.1420, 3.1420, 3.1420],\n",
            "        [3.1420, 3.1420, 3.1420, 3.1420, 3.1420],\n",
            "        [3.1420, 3.1420, 3.1420, 3.1420, 3.1420],\n",
            "        [3.1420, 3.1420, 3.1420, 3.1420, 3.1420],\n",
            "        [3.1420, 3.1420, 3.1420, 3.1420, 3.1420]], device='cuda:0')\n"
          ]
        }
      ]
    },
    {
      "cell_type": "code",
      "source": [
        "# Print tensor device location\n",
        "print(\"\\nTensor device location:\", my_pi_tensor.device)\n",
        "# Print tensor device location\n",
        "print(\"\\nTensor device location:\", my_pi_tensor1.device)\n",
        "\n",
        "#data type\n",
        "print(\"\\nTensor data type:\", my_pi_tensor1.dtype)"
      ],
      "metadata": {
        "colab": {
          "base_uri": "https://localhost:8080/"
        },
        "id": "8cmvNoXRafWR",
        "outputId": "6f238c4d-530b-497e-cdba-997c10d5cf74"
      },
      "execution_count": 26,
      "outputs": [
        {
          "output_type": "stream",
          "name": "stdout",
          "text": [
            "\n",
            "Tensor device location: cpu\n",
            "\n",
            "Tensor device location: cuda:0\n",
            "\n",
            "Tensor data type: torch.float32\n"
          ]
        }
      ]
    },
    {
      "cell_type": "code",
      "source": [
        "#(c) Print the fifth-root of the sum of all values in my pi tensor\n",
        "\n",
        "fifthroot = torch.pow(torch.sum(my_pi_tensor1), 1/5)\n",
        "\n",
        "print(\"Fifth root of the sum of all values:\", fifthroot.item())"
      ],
      "metadata": {
        "colab": {
          "base_uri": "https://localhost:8080/"
        },
        "id": "xn3CigGpbIdh",
        "outputId": "cfc48291-7fab-4fd0-ca4e-51c5119e7d97"
      },
      "execution_count": 27,
      "outputs": [
        {
          "output_type": "stream",
          "name": "stdout",
          "text": [
            "Fifth root of the sum of all values: 6.143364429473877\n"
          ]
        }
      ]
    },
    {
      "cell_type": "code",
      "source": [
        " # (d) Create a new tensor, my data tensor using the first and last 100 rows from the original data tensor.\n",
        "#Print size of my data tensor [Expect a size of 200 rows].\n",
        "\n",
        "first_100_rows = original_data_tensor[:100, :]\n",
        "last_100_rows = original_data_tensor[-100:, :]\n",
        "\n",
        "my_data_tensor = torch.cat([first_100_rows, last_100_rows], dim=0) #torch.cat() concatenates the two selected parts along the specified dimension (dimension 0 in this case, which corresponds to rows). When dim=1 means columns\n",
        "\n",
        "# Print the size of my_data_tensor\n",
        "print(\"Size of my_data_tensor:\", my_data_tensor.size())"
      ],
      "metadata": {
        "colab": {
          "base_uri": "https://localhost:8080/"
        },
        "id": "C5st8C9BbhiH",
        "outputId": "1eb0010c-195f-498b-b2d8-62919377e00e"
      },
      "execution_count": 28,
      "outputs": [
        {
          "output_type": "stream",
          "name": "stdout",
          "text": [
            "Size of my_data_tensor: torch.Size([200, 5])\n"
          ]
        }
      ]
    },
    {
      "cell_type": "markdown",
      "source": [
        "#### (d) Create two 1-D tensors, features and target from my_data_tensor. The feature is dIf (Changing of excitation current of synchronous machine) 4th column and target is If (Excitation current of synchronous machine) 5th column in the data set"
      ],
      "metadata": {
        "id": "Pfn0h_3ohfay"
      }
    },
    {
      "cell_type": "code",
      "source": [
        "features = my_data_tensor[:, 3].unsqueeze(dim=1)  # Note DIF is the 4th column i.e index 3 because index start from 0\n",
        "target = my_data_tensor[:, 4].unsqueeze(dim=1)    # IF is index 4 the 5th column & we added unsqueeze dim=1 to have them as column vectors\n",
        "# Print the size of the features and target tensors\n",
        "print(\"Size of features tensor:\", features.size())\n",
        "print(\"Size of target tensor:\", target.size())\n",
        "print(features[:10], target[:10]) #checking the 1st ten data points in the columns"
      ],
      "metadata": {
        "colab": {
          "base_uri": "https://localhost:8080/"
        },
        "id": "uFW_MZ4Wdk2v",
        "outputId": "890a9315-0e02-4e9c-8994-e9c093324708"
      },
      "execution_count": 34,
      "outputs": [
        {
          "output_type": "stream",
          "name": "stdout",
          "text": [
            "Size of features tensor: torch.Size([200, 1])\n",
            "Size of target tensor: torch.Size([200, 1])\n",
            "tensor([[383],\n",
            "        [372],\n",
            "        [ 36],\n",
            "        [338],\n",
            "        [317],\n",
            "        [301],\n",
            "        [ 29],\n",
            "        [ 28],\n",
            "        [ 25],\n",
            "        [221]]) tensor([[1563],\n",
            "        [1552],\n",
            "        [ 154],\n",
            "        [1518],\n",
            "        [1497],\n",
            "        [1481],\n",
            "        [ 147],\n",
            "        [ 146],\n",
            "        [ 143],\n",
            "        [1401]])\n"
          ]
        }
      ]
    },
    {
      "cell_type": "code",
      "source": [
        "# (f) Split your data into training and test data of ratio 75:25 respectively.\n",
        "train_split = int(0.75 * len(features)) #this train split is just a variable keeping the integer value of the 75% of leng of features. since feactures is 200, this will keep 150\n",
        "X_train, y_train = features[:train_split], target[:train_split] #taking 75% of the data for training I.e from the first to 150 index\n",
        "X_test, y_test = features[train_split:], target[train_split:] #taking 25% for testing #i.e from 150 to the end for testing\n",
        "\n",
        "len(X_train), len(y_train), len(X_test), len(y_test)"
      ],
      "metadata": {
        "colab": {
          "base_uri": "https://localhost:8080/"
        },
        "id": "3J9Zm6LWh51u",
        "outputId": "e34f75e1-844f-4447-fc33-8b2846fdf322"
      },
      "execution_count": 36,
      "outputs": [
        {
          "output_type": "execute_result",
          "data": {
            "text/plain": [
              "(150, 150, 50, 50)"
            ]
          },
          "metadata": {},
          "execution_count": 36
        }
      ]
    },
    {
      "cell_type": "code",
      "source": [
        "#Let's see the visualization of the above\n",
        "import matplotlib.pyplot as plt\n",
        "def plot_predictions(train_data=X_train,\n",
        "                     train_labels=y_train,\n",
        "                     test_data=X_test,\n",
        "                     test_labels=y_test,\n",
        "                     predictions=None):\n",
        "  \"\"\"\n",
        "  Plots training data, test data and compares predictions.\n",
        "  \"\"\"\n",
        "  plt.figure(figsize=(7, 5))\n",
        "\n",
        "  # Plot training data in blue\n",
        "  plt.scatter(train_data, train_labels, c=\"b\", s=4, label=\"Training data\")\n",
        "\n",
        "  # Plot test data in green\n",
        "  plt.scatter(test_data, test_labels, c=\"g\", s=4, label=\"Testing data\")\n",
        "\n",
        "  if predictions is not None:\n",
        "    # Plot the predictions in red (predictions were made on the test data)\n",
        "    plt.scatter(test_data, predictions, c=\"r\", s=4, label=\"Predictions\")\n",
        "\n",
        "  # Show the legend\n",
        "  plt.legend(prop={\"size\": 14});"
      ],
      "metadata": {
        "id": "c_xFjLTNqzhb"
      },
      "execution_count": 47,
      "outputs": []
    },
    {
      "cell_type": "code",
      "source": [
        "plot_predictions();"
      ],
      "metadata": {
        "colab": {
          "base_uri": "https://localhost:8080/",
          "height": 445
        },
        "id": "qE9ogPCuq42V",
        "outputId": "e27816ea-56a5-4b91-d711-f4b508f625f2"
      },
      "execution_count": 48,
      "outputs": [
        {
          "output_type": "display_data",
          "data": {
            "text/plain": [
              "<Figure size 700x500 with 1 Axes>"
            ],
            "image/png": "[encoded data removed]"
          },
          "metadata": {}
        }
      ]
    },
    {
      "cell_type": "markdown",
      "source": [
        "#### 3. Define your Linear model structure. You can use existing model."
      ],
      "metadata": {
        "id": "L8mMbmGkjn9m"
      }
    },
    {
      "cell_type": "code",
      "source": [
        "# Creating a Linear Regression model class\n",
        "from torch import nn\n",
        "class LinearRegressionModel(nn.Module): # <- almost everything in PyTorch is a nn.Module (think of this as neural network lego blocks)\n",
        "    def __init__(self):\n",
        "        super().__init__()\n",
        "        self.weights = nn.Parameter(torch.randn(1, # <- start with random weights (this will get adjusted as the model learns)\n",
        "                                                dtype=torch.float), # <- PyTorch loves float32 by default\n",
        "                                   requires_grad=True) # <- can we update this value with gradient descent?)\n",
        "\n",
        "        self.bias = nn.Parameter(torch.randn(1, # <- start with random bias (this will get adjusted as the model learns)\n",
        "                                            dtype=torch.float), # <- PyTorch loves float32 by default\n",
        "                                requires_grad=True) # <- can we update this value with gradient descent?))\n",
        "\n",
        "#Q: Implement the forward() method to compute the linear regression function you used to create the dataset in 1.\n",
        "\n",
        "    # Forward defines the computation in the model\n",
        "    def forward(self, x: torch.Tensor) -> torch.Tensor: # <- \"x\" is the input data (e.g. training/testing features)\n",
        "        return self.weights * x + self.bias # <- this is the linear regression formula (y = m*x + b)\n"
      ],
      "metadata": {
        "id": "XzUtfCKUjjU5"
      },
      "execution_count": 37,
      "outputs": []
    },
    {
      "cell_type": "markdown",
      "source": [
        "#### 4. Train model for any number of epochs. Generate 1 plot of Loss against Epoch during model training and testing. Choose any set of hyperparameters for model training."
      ],
      "metadata": {
        "id": "q26dfonVmlRp"
      }
    },
    {
      "cell_type": "code",
      "source": [
        "#Before we train, let's see what our linear model consist of\n",
        "# Set manual seed since nn.Parameter are randomly initialzied.\n",
        "torch.manual_seed(20)\n",
        "\n",
        "# Create an instance of the model (this is a subclass of nn.Module that contains nn.Parameter(s))\n",
        "model_SM = LinearRegressionModel()\n",
        "\n",
        "# Check the nn.Parameter(s) within the nn.Module subclass we created\n",
        "list(model_SM.parameters())"
      ],
      "metadata": {
        "colab": {
          "base_uri": "https://localhost:8080/"
        },
        "id": "pMybG3sHmNvD",
        "outputId": "a1b6e280-99f6-45e5-e721-5e300d8f946a"
      },
      "execution_count": 61,
      "outputs": [
        {
          "output_type": "execute_result",
          "data": {
            "text/plain": [
              "[Parameter containing:\n",
              " tensor([-1.2061], requires_grad=True),\n",
              " Parameter containing:\n",
              " tensor([0.0617], requires_grad=True)]"
            ]
          },
          "metadata": {},
          "execution_count": 61
        }
      ]
    },
    {
      "cell_type": "code",
      "source": [
        "#Checking what the model contains using .state_dict().\n",
        "# List named parameters\n",
        "model_SM.state_dict()"
      ],
      "metadata": {
        "colab": {
          "base_uri": "https://localhost:8080/"
        },
        "id": "ZmKzX-qBm32R",
        "outputId": "732f5795-138c-49e8-aaa8-084af2c3cebb"
      },
      "execution_count": 62,
      "outputs": [
        {
          "output_type": "execute_result",
          "data": {
            "text/plain": [
              "OrderedDict([('weights', tensor([-1.2061])), ('bias', tensor([0.0617]))])"
            ]
          },
          "metadata": {},
          "execution_count": 62
        }
      ]
    },
    {
      "cell_type": "code",
      "source": [
        "# To train the model, we also need to define a loss function and an optimizer\n",
        "# Creating the loss function\n",
        "loss_fn = nn.L1Loss() # MAE loss is same as L1Loss\n",
        "\n",
        "# Create the optimizer\n",
        "optimizer = torch.optim.SGD(params=model_SM.parameters(), # parameters of target model to optimize\n",
        "                            lr=0.02) # learning rate (how much the optimizer should change parameters at each step, higher=more (less stable), lower=less (might take a long time))"
      ],
      "metadata": {
        "id": "-HJ7wQA5nSME"
      },
      "execution_count": 66,
      "outputs": []
    },
    {
      "cell_type": "code",
      "source": [
        "#Training our model\n",
        "\n",
        "torch.manual_seed(30)\n",
        "\n",
        "# Set the number of epochs (how many times the model will pass over the training data)\n",
        "epochs = 400\n",
        "\n",
        "# Create empty loss lists to track values\n",
        "train_loss_values = []\n",
        "test_loss_values = []\n",
        "epoch_count = []\n",
        "\n",
        "for epoch in range(epochs):\n",
        "    ### Training\n",
        "\n",
        "    # Put model in training mode (this is the default state of a model)\n",
        "    model_SM.train()\n",
        "\n",
        "    # 1. Forward pass on train data using the forward() method inside\n",
        "    y_pred = model_SM(X_train)\n",
        "    # print(y_pred)\n",
        "\n",
        "    # 2. Calculate the loss (how different are our models predictions to the ground truth)\n",
        "    loss = loss_fn(y_pred, y_train)\n",
        "\n",
        "    # 3. Zero grad of the optimizer\n",
        "    optimizer.zero_grad()\n",
        "\n",
        "    # 4. Loss backwards\n",
        "    loss.backward()\n",
        "\n",
        "    # 5. Progress the optimizer\n",
        "    optimizer.step()\n",
        "\n",
        "    ### Testing\n",
        "\n",
        "    # Put the model in evaluation mode\n",
        "    model_SM.eval()\n",
        "\n",
        "    with torch.inference_mode():\n",
        "      # 1. Forward pass on test data\n",
        "      test_pred = model_SM(X_test)\n",
        "\n",
        "      # 2. Caculate loss on test data\n",
        "      test_loss = loss_fn(test_pred, y_test.type(torch.float)) # predictions come in torch.float datatype, so comparisons need to be done with tensors of the same type\n",
        "\n",
        "      # Print out what's happening\n",
        "      if epoch % 10 == 0:\n",
        "            epoch_count.append(epoch)\n",
        "            train_loss_values.append(loss.detach().numpy())\n",
        "            test_loss_values.append(test_loss.detach().numpy())\n",
        "            print(f\"Epoch: {epoch} | MAE Train Loss: {loss} | MAE Test Loss: {test_loss} \")"
      ],
      "metadata": {
        "colab": {
          "base_uri": "https://localhost:8080/"
        },
        "id": "k3HPJ96VoV9i",
        "outputId": "5224c2c9-b791-492a-b38d-0fefae2b253e"
      },
      "execution_count": 67,
      "outputs": [
        {
          "output_type": "stream",
          "name": "stdout",
          "text": [
            "Epoch: 0 | MAE Train Loss: 446.1817321777344 | MAE Test Loss: 368.0072326660156 \n",
            "Epoch: 10 | MAE Train Loss: 789.4594116210938 | MAE Test Loss: 620.8642578125 \n",
            "Epoch: 20 | MAE Train Loss: 1086.27099609375 | MAE Test Loss: 356.8154602050781 \n",
            "Epoch: 30 | MAE Train Loss: 630.5028686523438 | MAE Test Loss: 651.4269409179688 \n",
            "Epoch: 40 | MAE Train Loss: 1075.8199462890625 | MAE Test Loss: 354.7289123535156 \n",
            "Epoch: 50 | MAE Train Loss: 759.01025390625 | MAE Test Loss: 631.2210083007812 \n",
            "Epoch: 60 | MAE Train Loss: 1015.7127075195312 | MAE Test Loss: 379.4146423339844 \n",
            "Epoch: 70 | MAE Train Loss: 726.3377075195312 | MAE Test Loss: 621.1259155273438 \n",
            "Epoch: 80 | MAE Train Loss: 1086.098388671875 | MAE Test Loss: 356.7501525878906 \n",
            "Epoch: 90 | MAE Train Loss: 630.3274536132812 | MAE Test Loss: 651.6883544921875 \n",
            "Epoch: 100 | MAE Train Loss: 1075.64599609375 | MAE Test Loss: 354.64337158203125 \n",
            "Epoch: 110 | MAE Train Loss: 758.8339233398438 | MAE Test Loss: 631.4824829101562 \n",
            "Epoch: 120 | MAE Train Loss: 1015.5387573242188 | MAE Test Loss: 379.4870300292969 \n",
            "Epoch: 130 | MAE Train Loss: 726.161865234375 | MAE Test Loss: 621.3873291015625 \n",
            "Epoch: 140 | MAE Train Loss: 1070.0362548828125 | MAE Test Loss: 355.2897644042969 \n",
            "Epoch: 150 | MAE Train Loss: 650.666748046875 | MAE Test Loss: 743.7022094726562 \n",
            "Epoch: 160 | MAE Train Loss: 1062.7940673828125 | MAE Test Loss: 356.84881591796875 \n",
            "Epoch: 170 | MAE Train Loss: 629.4345092773438 | MAE Test Loss: 653.4862670898438 \n",
            "Epoch: 180 | MAE Train Loss: 1074.56884765625 | MAE Test Loss: 354.63055419921875 \n",
            "Epoch: 190 | MAE Train Loss: 757.8369750976562 | MAE Test Loss: 633.2803344726562 \n",
            "Epoch: 200 | MAE Train Loss: 1014.463623046875 | MAE Test Loss: 371.1569519042969 \n",
            "Epoch: 210 | MAE Train Loss: 654.2562866210938 | MAE Test Loss: 736.349853515625 \n",
            "Epoch: 220 | MAE Train Loss: 1029.4688720703125 | MAE Test Loss: 368.7494201660156 \n",
            "Epoch: 230 | MAE Train Loss: 725.7779541015625 | MAE Test Loss: 622.0038452148438 \n",
            "Epoch: 240 | MAE Train Loss: 1068.5633544921875 | MAE Test Loss: 355.44122314453125 \n",
            "Epoch: 250 | MAE Train Loss: 681.2000732421875 | MAE Test Loss: 708.0098266601562 \n",
            "Epoch: 260 | MAE Train Loss: 1018.2164306640625 | MAE Test Loss: 376.9790954589844 \n",
            "Epoch: 270 | MAE Train Loss: 727.5054931640625 | MAE Test Loss: 643.1265869140625 \n",
            "Epoch: 280 | MAE Train Loss: 1083.76220703125 | MAE Test Loss: 357.15252685546875 \n",
            "Epoch: 290 | MAE Train Loss: 651.3071899414062 | MAE Test Loss: 742.1781005859375 \n",
            "Epoch: 300 | MAE Train Loss: 1063.6329345703125 | MAE Test Loss: 356.42425537109375 \n",
            "Epoch: 310 | MAE Train Loss: 629.1559448242188 | MAE Test Loss: 653.8107299804688 \n",
            "Epoch: 320 | MAE Train Loss: 1074.33056640625 | MAE Test Loss: 354.5422668457031 \n",
            "Epoch: 330 | MAE Train Loss: 756.6044921875 | MAE Test Loss: 635.4533081054688 \n",
            "Epoch: 340 | MAE Train Loss: 1012.087890625 | MAE Test Loss: 372.7749938964844 \n",
            "Epoch: 350 | MAE Train Loss: 651.2367553710938 | MAE Test Loss: 742.2199096679688 \n",
            "Epoch: 360 | MAE Train Loss: 1062.509033203125 | MAE Test Loss: 356.5668640136719 \n",
            "Epoch: 370 | MAE Train Loss: 628.2393798828125 | MAE Test Loss: 655.700927734375 \n",
            "Epoch: 380 | MAE Train Loss: 1073.2093505859375 | MAE Test Loss: 354.5697021484375 \n",
            "Epoch: 390 | MAE Train Loss: 651.4041748046875 | MAE Test Loss: 741.8156127929688 \n"
          ]
        }
      ]
    },
    {
      "cell_type": "code",
      "source": [
        " #Plotting the loss curves\n",
        "\n",
        "plt.plot(epoch_count, train_loss_values, label=\"Train loss\")\n",
        "plt.plot(epoch_count, test_loss_values, label=\"Test loss\")\n",
        "plt.title(\"Training and test loss curves\")\n",
        "plt.ylabel(\"Loss\")\n",
        "plt.xlabel(\"Epochs\")\n",
        "plt.legend();"
      ],
      "metadata": {
        "colab": {
          "base_uri": "https://localhost:8080/",
          "height": 472
        },
        "id": "fcasa2ccp20j",
        "outputId": "a5ce269a-ea2f-4d48-d73a-564f2443376b"
      },
      "execution_count": 68,
      "outputs": [
        {
          "output_type": "display_data",
          "data": {
            "text/plain": [
              "<Figure size 640x480 with 1 Axes>"
            ],
            "image/png": "[encoded data removed]"
          },
          "metadata": {}
        }
      ]
    },
    {
      "cell_type": "markdown",
      "source": [
        "It can be observed that  both the losses are fluctuating without clear convergence. It is neither a sign of overfitting nor underfitting as both fluctuate without a consistent pattern. We may consider trying to adjust the parameters, try a different loss, or play a bit with the learning rate.It may also be possible that there are outiers in the dataset"
      ],
      "metadata": {
        "id": "oBLt-t7iuqSR"
      }
    }
  ]
}