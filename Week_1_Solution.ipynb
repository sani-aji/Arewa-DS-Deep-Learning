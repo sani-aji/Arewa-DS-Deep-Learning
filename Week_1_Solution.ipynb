{
  "cells": [
    {
      "cell_type": "markdown",
      "metadata": {
        "id": "5IgwUGL6tE4O"
      },
      "source": [
        "## Arewa Data Science Academy\n",
        "### Deep Learning Cohort1.0\n",
        "\n",
        "#### Name: Sani Aji\n",
        "#### Email: saniajy@gmail.com\n",
        "#### Title: Week 1 Solution"
      ]
    },
    {
      "cell_type": "markdown",
      "metadata": {
        "id": "UejqFBT0tQOo"
      },
      "source": [
        "### Exercises Solution"
      ]
    },
    {
      "cell_type": "markdown",
      "metadata": {
        "id": "FaTrRUL1tT-K"
      },
      "source": [
        "###  1. Documentation reading on torch.Tensor and torch.cuda"
      ]
    },
    {
      "cell_type": "markdown",
      "metadata": {
        "id": "LuzcUo0qtYiS"
      },
      "source": [
        "### 2. Create a random tensor with shape (7, 7)"
      ]
    },
    {
      "cell_type": "code",
      "execution_count": 1,
      "metadata": {
        "colab": {
          "base_uri": "https://localhost:8080/"
        },
        "id": "eLBzmjroHkgO",
        "outputId": "33d1677f-cf79-4578-ebce-578bc92990d9"
      },
      "outputs": [
        {
          "data": {
            "text/plain": [
              "tensor([[0.5627, 0.9653, 0.7830, 0.9883, 0.9157, 0.7452, 0.4821],\n",
              "        [0.6509, 0.0548, 0.6631, 0.6508, 0.9680, 0.7100, 0.4055],\n",
              "        [0.3630, 0.3003, 0.0906, 0.5850, 0.1413, 0.9465, 0.3483],\n",
              "        [0.9439, 0.2454, 0.2280, 0.6274, 0.2572, 0.2079, 0.4138],\n",
              "        [0.2969, 0.7908, 0.2039, 0.8401, 0.4753, 0.0155, 0.1818],\n",
              "        [0.4098, 0.2100, 0.8066, 0.3678, 0.6347, 0.7687, 0.6345],\n",
              "        [0.9350, 0.0800, 0.7789, 0.6632, 0.2018, 0.2836, 0.7619]])"
            ]
          },
          "execution_count": 1,
          "metadata": {},
          "output_type": "execute_result"
        }
      ],
      "source": [
        "import torch\n",
        "random_tensor = torch.rand(size=(7, 7))\n",
        "random_tensor"
      ]
    },
    {
      "cell_type": "markdown",
      "metadata": {
        "id": "K8qX0xUwtfnz"
      },
      "source": [
        "### 3. Perform a matrix multiplication on the tensor from 2 with another random tensor with shape (1, 7) (hint: you may have to transpose the second tensor)."
      ]
    },
    {
      "cell_type": "code",
      "execution_count": 2,
      "metadata": {
        "colab": {
          "base_uri": "https://localhost:8080/"
        },
        "id": "-ZQevRkrtbZ_",
        "outputId": "856d5f82-aea4-41ca-9e23-a1b7a20884c8"
      },
      "outputs": [
        {
          "data": {
            "text/plain": [
              "tensor([[2.6182],\n",
              "        [1.8567],\n",
              "        [1.1997],\n",
              "        [1.3302],\n",
              "        [1.4323],\n",
              "        [1.8134],\n",
              "        [1.9914]])"
            ]
          },
          "execution_count": 2,
          "metadata": {},
          "output_type": "execute_result"
        }
      ],
      "source": [
        "random_tensor_2 =  torch.rand(size=(1, 7))\n",
        "# Matrix multiplication\n",
        "torch.matmul(random_tensor, random_tensor_2.T)"
      ]
    },
    {
      "cell_type": "markdown",
      "metadata": {
        "id": "s75tZ5CKto1o"
      },
      "source": [
        "### 4. Set the random seed to 0 and do exercises 2 & 3 over again."
      ]
    },
    {
      "cell_type": "code",
      "execution_count": 4,
      "metadata": {
        "colab": {
          "base_uri": "https://localhost:8080/"
        },
        "id": "jfsI0ozLtioL",
        "outputId": "2769e144-8355-4267-900f-9c950427e470"
      },
      "outputs": [
        {
          "name": "stdout",
          "output_type": "stream",
          "text": [
            "Random Tensor:\n",
            "tensor([[0.4963, 0.7682, 0.0885, 0.1320, 0.3074, 0.6341, 0.4901],\n",
            "        [0.8964, 0.4556, 0.6323, 0.3489, 0.4017, 0.0223, 0.1689],\n",
            "        [0.2939, 0.5185, 0.6977, 0.8000, 0.1610, 0.2823, 0.6816],\n",
            "        [0.9152, 0.3971, 0.8742, 0.4194, 0.5529, 0.9527, 0.0362],\n",
            "        [0.1852, 0.3734, 0.3051, 0.9320, 0.1759, 0.2698, 0.1507],\n",
            "        [0.0317, 0.2081, 0.9298, 0.7231, 0.7423, 0.5263, 0.2437],\n",
            "        [0.5846, 0.0332, 0.1387, 0.2422, 0.8155, 0.7932, 0.2783]])\n",
            "\n",
            "Random Tensor2:\n",
            "tensor([[0.4963, 0.7682, 0.0885, 0.1320, 0.3074, 0.6341, 0.4901]])\n",
            "\n"
          ]
        },
        {
          "data": {
            "text/plain": [
              "tensor([[1.5985],\n",
              "        [1.1173],\n",
              "        [1.2741],\n",
              "        [1.6838],\n",
              "        [0.8279],\n",
              "        [1.0347],\n",
              "        [1.2498]])"
            ]
          },
          "execution_count": 4,
          "metadata": {},
          "output_type": "execute_result"
        }
      ],
      "source": [
        "RANDOM_SEED=0\n",
        "torch.manual_seed(seed=RANDOM_SEED)\n",
        "random_tensor = torch.rand(size=(7, 7))\n",
        "print(f\"Random Tensor:\\n{random_tensor}\\n\")\n",
        "\n",
        "torch.manual_seed(seed=RANDOM_SEED)\n",
        "random_tensor_2 =  torch.rand(size=(1, 7))\n",
        "print(f\"Random Tensor2:\\n{random_tensor_2}\\n\")\n",
        "\n",
        "# Matrix multiplication\n",
        "torch.matmul(random_tensor, random_tensor_2.T)\n"
      ]
    },
    {
      "cell_type": "markdown",
      "metadata": {
        "id": "yEeNxff6txXd"
      },
      "source": [
        "### 5. Speaking of random seeds, we saw how to set it with torch.manual_seed() but is there a GPU equivalent? (hint: you'll need to look into the documentation for torch.cuda for this one). If there is, set the GPU random seed to 1234."
      ]
    },
    {
      "cell_type": "code",
      "execution_count": 11,
      "metadata": {
        "id": "kYlTOAZmv6sM"
      },
      "outputs": [],
      "source": [
        "#GPU Equivalent for setting Random Seed is torch.cuda.manual_seed()\n",
        "#to check if we have GPU\n",
        "torch.cuda.is_available()\n",
        "#to set the GPU random seed:\n",
        "\n",
        "RANDOM_SEED=1234\n",
        "torch.cuda.manual_seed(seed=RANDOM_SEED)\n",
        "\n",
        "\n"
      ]
    },
    {
      "cell_type": "markdown",
      "metadata": {
        "id": "1wIKjWZXyAfz"
      },
      "source": [
        "### 6. Create two random tensors of shape (2, 3) and send them both to the GPU (you'll need access to a GPU for this). Set torch.manual_seed(1234) when creating the tensors (this doesn't have to be the GPU random seed)."
      ]
    },
    {
      "cell_type": "code",
      "execution_count": 32,
      "metadata": {
        "colab": {
          "base_uri": "https://localhost:8080/"
        },
        "id": "OxV6IlGpw-Fd",
        "outputId": "38ff4ef5-5515-4383-c57a-0b1193101801"
      },
      "outputs": [
        {
          "name": "stdout",
          "output_type": "stream",
          "text": [
            "tensor([[0.0290, 0.4019, 0.2598],\n",
            "        [0.3666, 0.0583, 0.7006]]) cpu\n",
            "tensor([[0.0518, 0.4681, 0.6738],\n",
            "        [0.3315, 0.7837, 0.5631]]) cpu\n"
          ]
        }
      ],
      "source": [
        "\n",
        "torch.manual_seed(1234)\n",
        "random_tensor1 = torch.rand(size=(2, 3))\n",
        "random_tensor2 = torch.rand(size=(2, 3))\n",
        "# Tensor not on GPU\n",
        "print(random_tensor1, random_tensor1.device)\n",
        "print(random_tensor2, random_tensor2.device)\n"
      ]
    },
    {
      "cell_type": "code",
      "execution_count": 33,
      "metadata": {
        "colab": {
          "base_uri": "https://localhost:8080/"
        },
        "id": "ErFGh9rXzsf8",
        "outputId": "51d9664b-8c8d-4b34-c1cd-667584ab0705"
      },
      "outputs": [
        {
          "name": "stdout",
          "output_type": "stream",
          "text": [
            "tensor([[0.0290, 0.4019, 0.2598],\n",
            "        [0.3666, 0.0583, 0.7006]], device='cuda:0') cuda:0\n",
            "tensor([[0.0518, 0.4681, 0.6738],\n",
            "        [0.3315, 0.7837, 0.5631]], device='cuda:0') cuda:0\n"
          ]
        }
      ],
      "source": [
        "\n",
        "# Moving them to GPU\n",
        "device = 'cuda'\n",
        "random_tensor1_on_GPU= random_tensor1.to(device)\n",
        "random_tensor2_on_GPU= random_tensor2.to(device)\n",
        "print(random_tensor1_on_GPU, random_tensor1_on_GPU.device)\n",
        "print(random_tensor2_on_GPU, random_tensor2_on_GPU.device)"
      ]
    },
    {
      "cell_type": "markdown",
      "metadata": {
        "id": "sx0oOe0S1dAU"
      },
      "source": [
        "### 7. Perform a matrix multiplication on the tensors you created in 6 (again, you may have to adjust the shapes of one of the tensors)."
      ]
    },
    {
      "cell_type": "code",
      "execution_count": 46,
      "metadata": {
        "colab": {
          "base_uri": "https://localhost:8080/"
        },
        "id": "WdX2_SlP3IuI",
        "outputId": "b8c0e4fd-0b90-4174-d089-fa1e5d0d1fab"
      },
      "outputs": [
        {
          "data": {
            "text/plain": [
              "tensor([[0.3647, 0.4709],\n",
              "        [0.5184, 0.5617]], device='cuda:0')"
            ]
          },
          "execution_count": 46,
          "metadata": {},
          "output_type": "execute_result"
        }
      ],
      "source": [
        "# Matrix multiplication\n",
        "Matrix_Multiply = torch.matmul(random_tensor1_on_GPU, random_tensor2_on_GPU.T)\n",
        "Matrix_Multiply\n"
      ]
    },
    {
      "cell_type": "markdown",
      "metadata": {
        "id": "3xGgF7zm2fp8"
      },
      "source": [
        "### 8. Find the maximum and minimum values of the output of 7."
      ]
    },
    {
      "cell_type": "code",
      "execution_count": 41,
      "metadata": {
        "colab": {
          "base_uri": "https://localhost:8080/"
        },
        "id": "3qodJICd2heB",
        "outputId": "220648bb-b538-4dcc-88f5-53c7984c9457"
      },
      "outputs": [
        {
          "name": "stdout",
          "output_type": "stream",
          "text": [
            "tensor(0.3647, device='cuda:0')\n",
            "tensor(0.5617, device='cuda:0')\n"
          ]
        }
      ],
      "source": [
        "#Min\n",
        "print(torch.min(Matrix_Multiply))\n",
        "#max\n",
        "print(torch.max(Matrix_Multiply))"
      ]
    },
    {
      "cell_type": "markdown",
      "metadata": {
        "id": "nx_22-qN4M1U"
      },
      "source": [
        "### 9. Find the maximum and minimum index values of the output of 7"
      ]
    },
    {
      "cell_type": "code",
      "execution_count": 42,
      "metadata": {
        "colab": {
          "base_uri": "https://localhost:8080/"
        },
        "id": "7_x738sH32yZ",
        "outputId": "0e5d0b22-6332-4b78-82bd-69d880bce123"
      },
      "outputs": [
        {
          "name": "stdout",
          "output_type": "stream",
          "text": [
            "tensor(0, device='cuda:0')\n",
            "tensor(3, device='cuda:0')\n"
          ]
        }
      ],
      "source": [
        "#index of min\n",
        "print(torch.argmin(Matrix_Multiply))\n",
        "\n",
        "#index of max\n",
        "\n",
        "print(torch.argmax(Matrix_Multiply))\n"
      ]
    },
    {
      "cell_type": "markdown",
      "metadata": {
        "id": "EUOsBT0h4vwu"
      },
      "source": [
        "### 10. Make a random tensor with shape (1, 1, 1, 10) and then create a new tensor with all the 1 dimensions removed to be left with a tensor of shape (10). Set the seed to 7 when you create it and print out the first tensor and it's shape as well as the second tensor and it's shape."
      ]
    },
    {
      "cell_type": "code",
      "execution_count": 45,
      "metadata": {
        "colab": {
          "base_uri": "https://localhost:8080/"
        },
        "id": "5dTnmJMM4nl4",
        "outputId": "fae0afb4-5ff1-472e-bc88-a7b5cccb7bb6"
      },
      "outputs": [
        {
          "name": "stdout",
          "output_type": "stream",
          "text": [
            "tensor([[[[0.5349, 0.1988, 0.6592, 0.6569, 0.2328, 0.4251, 0.2071, 0.6297,\n",
            "           0.3653, 0.8513]]]]) torch.Size([1, 1, 1, 10])\n",
            "tensor([0.5349, 0.1988, 0.6592, 0.6569, 0.2328, 0.4251, 0.2071, 0.6297, 0.3653,\n",
            "        0.8513]) torch.Size([10])\n"
          ]
        }
      ],
      "source": [
        "torch.manual_seed(7)\n",
        "random_tensor_new = torch.rand((1,1,1,10))\n",
        "print(random_tensor_new, random_tensor_new.shape)\n",
        "\n",
        "#to remove the 1 dims, we use squeeze()\n",
        "random_tensor_new_wo_dims= random_tensor_new.squeeze()\n",
        "print(random_tensor_new_wo_dims, random_tensor_new_wo_dims.shape)\n"
      ]
    }
  ],
  "metadata": {
    "accelerator": "GPU",
    "colab": {
      "gpuType": "T4",
      "provenance": []
    },
    "kernelspec": {
      "display_name": "Python 3",
      "name": "python3"
    },
    "language_info": {
      "name": "python",
      "version": "3.9.18"
    }
  },
  "nbformat": 4,
  "nbformat_minor": 0
}
